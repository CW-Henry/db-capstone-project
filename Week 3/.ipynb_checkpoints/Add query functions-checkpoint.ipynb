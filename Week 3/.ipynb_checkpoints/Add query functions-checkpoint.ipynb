{
 "cells": [
  {
   "cell_type": "code",
   "execution_count": null,
   "id": "eb8d3f52",
   "metadata": {},
   "outputs": [],
   "source": [
    "import mysql.connector as connector"
   ]
  },
  {
   "cell_type": "code",
   "execution_count": null,
   "id": "f501a9cd",
   "metadata": {},
   "outputs": [],
   "source": [
    "cnx = connector.connect(user=\"your_username\", password=\"your_password\", db=\"LittleLemonDB\")"
   ]
  },
  {
   "cell_type": "code",
   "execution_count": null,
   "id": "1967a0c1",
   "metadata": {},
   "outputs": [],
   "source": [
    "# Exercise: Add query functions, Task 1\n",
    "\n",
    "cursor = cnx.cursor()\n"
   ]
  },
  {
   "cell_type": "code",
   "execution_count": null,
   "id": "c35fd06f",
   "metadata": {},
   "outputs": [],
   "source": [
    "# Task 2\n",
    "\n",
    "show_table_query = \"SHOW tables\"\n",
    "cursor.execute(show_table_query)\n",
    "\n",
    "print(cursor.fetchall())"
   ]
  },
  {
   "cell_type": "code",
   "execution_count": null,
   "id": "46bec707",
   "metadata": {},
   "outputs": [],
   "source": [
    "# Task 3\n",
    "\n",
    "order_60more_customer_detail = \"\"\"\n",
    "SELECT c.CustomerName, c.ContactDetails FROM CustomerDetails c\n",
    "INNER JOIN Orders o ON c.CustomerDetailsID = o.CustomerDetailsID\n",
    "WHERE o.TotalCost > 60\n",
    "\"\"\"\n",
    "cursor.execute(order_60more_customer_detail)\n",
    "print(cursor.fetchall())"
   ]
  }
 ],
 "metadata": {
  "kernelspec": {
   "display_name": "Python 3 (ipykernel)",
   "language": "python",
   "name": "python3"
  },
  "language_info": {
   "codemirror_mode": {
    "name": "ipython",
    "version": 3
   },
   "file_extension": ".py",
   "mimetype": "text/x-python",
   "name": "python",
   "nbconvert_exporter": "python",
   "pygments_lexer": "ipython3",
   "version": "3.11.3"
  }
 },
 "nbformat": 4,
 "nbformat_minor": 5
}
