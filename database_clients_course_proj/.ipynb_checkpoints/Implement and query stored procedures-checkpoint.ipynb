{
 "cells": [
  {
   "cell_type": "code",
   "execution_count": null,
   "id": "a99103e3",
   "metadata": {},
   "outputs": [],
   "source": [
    "### TASK 1\n",
    "\n",
    "from mysql.connector.pooling import MySQLConnectionPool"
   ]
  },
  {
   "cell_type": "code",
   "execution_count": null,
   "id": "48ea2688",
   "metadata": {},
   "outputs": [],
   "source": [
    "from mysql.connector import Error"
   ]
  },
  {
   "cell_type": "code",
   "execution_count": null,
   "id": "23ef3131",
   "metadata": {},
   "outputs": [],
   "source": [
    "dbconfig={\"database\":\"little_lemon_db\", \"user\":\"your_username\", \"password\":\"your_password\"}\n",
    "\n",
    "pool = MySQLConnectionPool(pool_name=\"pool_a\",\n",
    "                          pool_size=2,\n",
    "                          **dbconfig)"
   ]
  },
  {
   "cell_type": "code",
   "execution_count": null,
   "id": "c87bd9ab",
   "metadata": {},
   "outputs": [],
   "source": [
    "existing_user = ['ME']\n",
    "for i in range(pool.pool_size):\n",
    "    try:\n",
    "        conn = pool.get_connection()\n",
    "    except PoolError as err:\n",
    "        print(\"Error in connecting: {}\".format(err))\n",
    "    if conn.is_connected:\n",
    "        cursor = conn.cursor()\n",
    "#         print(\"{}\\'s Connection ID {} on booking id {} \"\n",
    "#               .format(existing_user[i],conn.connection_id, i+1))\n",
    "        cursor.execute(\"SELECT * FROM bookings\")\n",
    "        print(cursor.fetchall())\n",
    "    else:\n",
    "        print(\"No Connection\")\n",
    "    conn.close()"
   ]
  },
  {
   "cell_type": "code",
   "execution_count": null,
   "id": "d843c212",
   "metadata": {},
   "outputs": [],
   "source": [
    "### TASK 2\n",
    "\n",
    "create_peakhours_proc = \"\"\"\n",
    "CREATE PROCEDURE PeakHours()\n",
    "BEGIN\n",
    "SELECT HOUR(BookingSlot) AS BookingHour,\n",
    "Count(HOUR(BookingSlot)) AS NumberOfBookings\n",
    "FROM Bookings \n",
    "GROUP BY BookingHour\n",
    "ORDER BY NumberOfBookings DESC;\n",
    "END\n",
    "\"\"\""
   ]
  },
  {
   "cell_type": "code",
   "execution_count": null,
   "id": "fc2f9e38",
   "metadata": {},
   "outputs": [],
   "source": [
    "cursor.execute(create_peakhours_proc)"
   ]
  },
  {
   "cell_type": "code",
   "execution_count": null,
   "id": "9e81db34",
   "metadata": {},
   "outputs": [],
   "source": [
    "print(cursor.fetchall())"
   ]
  },
  {
   "cell_type": "code",
   "execution_count": null,
   "id": "5a645c46",
   "metadata": {},
   "outputs": [],
   "source": [
    "cursor.callproc(\"PeakHours\")"
   ]
  },
  {
   "cell_type": "code",
   "execution_count": null,
   "id": "7a84b1df",
   "metadata": {},
   "outputs": [],
   "source": [
    "results = next(cursor.stored_results())"
   ]
  },
  {
   "cell_type": "code",
   "execution_count": null,
   "id": "d2230c32",
   "metadata": {},
   "outputs": [],
   "source": [
    "dataset = results.fetchall()"
   ]
  },
  {
   "cell_type": "code",
   "execution_count": null,
   "id": "12034bc9",
   "metadata": {},
   "outputs": [],
   "source": [
    "print(results.column_names)\n",
    "for data in dataset:\n",
    "    print(data)"
   ]
  },
  {
   "cell_type": "code",
   "execution_count": null,
   "id": "1350fb3a",
   "metadata": {},
   "outputs": [],
   "source": [
    "### TASK 3\n",
    "\n",
    "guest_status_proc = \"\"\"\n",
    "CREATE PROCEDURE GuestStatus()\n",
    "BEGIN\n",
    "SELECT CONCAT(bk.GuestFirstName, \" \", bk.GuestLastName) \n",
    "AS GuestFullName,\n",
    "CASE\n",
    "WHEN emp.Role = \"Manager\" OR emp.Role = \"Assistant Manager\"\n",
    "THEN \"Ready to pay\"\n",
    "WHEN emp.Role = \"Head Chef\" THEN \"Ready to serve\"\n",
    "WHEN emp.Role = \"Assistant Chef\" THEN \"Preparing Order\"\n",
    "WHEN emp.Role = \"Head Waiter\" THEN \"Order served\"\n",
    "END AS OrderStatus\n",
    "FROM Employees emp\n",
    "LEFT JOIN Bookings bk\n",
    "ON emp.EmployeeID = bk.EmployeeID;\n",
    "END\n",
    "\"\"\""
   ]
  },
  {
   "cell_type": "code",
   "execution_count": null,
   "id": "a32fdca2",
   "metadata": {},
   "outputs": [],
   "source": [
    "cursor.execute(\"DROP PROCEDURE GuestStatus\")"
   ]
  },
  {
   "cell_type": "code",
   "execution_count": null,
   "id": "e29ac352",
   "metadata": {},
   "outputs": [],
   "source": [
    "cursor.execute(guest_status_proc)"
   ]
  },
  {
   "cell_type": "code",
   "execution_count": null,
   "id": "7bfb4146",
   "metadata": {},
   "outputs": [],
   "source": [
    "cursor.callproc(\"GuestStatus\")"
   ]
  },
  {
   "cell_type": "code",
   "execution_count": null,
   "id": "559e8cd4",
   "metadata": {},
   "outputs": [],
   "source": [
    "results = next(cursor.stored_results())"
   ]
  },
  {
   "cell_type": "code",
   "execution_count": null,
   "id": "546e2fb4",
   "metadata": {},
   "outputs": [],
   "source": [
    "dataset = results.fetchall()"
   ]
  },
  {
   "cell_type": "code",
   "execution_count": null,
   "id": "88d985ef",
   "metadata": {},
   "outputs": [],
   "source": [
    "print(results.column_names)"
   ]
  },
  {
   "cell_type": "code",
   "execution_count": null,
   "id": "6ef22258",
   "metadata": {},
   "outputs": [],
   "source": [
    "for data in dataset:\n",
    "    print(data)"
   ]
  },
  {
   "cell_type": "code",
   "execution_count": null,
   "id": "66d39b97",
   "metadata": {},
   "outputs": [],
   "source": [
    "# Close Connection\n",
    "conn.close()"
   ]
  }
 ],
 "metadata": {
  "kernelspec": {
   "display_name": "Python 3 (ipykernel)",
   "language": "python",
   "name": "python3"
  },
  "language_info": {
   "codemirror_mode": {
    "name": "ipython",
    "version": 3
   },
   "file_extension": ".py",
   "mimetype": "text/x-python",
   "name": "python",
   "nbconvert_exporter": "python",
   "pygments_lexer": "ipython3",
   "version": "3.11.3"
  }
 },
 "nbformat": 4,
 "nbformat_minor": 5
}
