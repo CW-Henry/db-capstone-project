{
 "cells": [
  {
   "cell_type": "code",
   "execution_count": null,
   "id": "b6603735",
   "metadata": {},
   "outputs": [],
   "source": [
    "### Task 1\n",
    "\n",
    "from mysql.connector.pooling import MySQLConnectionPool"
   ]
  },
  {
   "cell_type": "code",
   "execution_count": null,
   "id": "18104aef",
   "metadata": {},
   "outputs": [],
   "source": [
    "from mysql.connector import Error, PoolError"
   ]
  },
  {
   "cell_type": "code",
   "execution_count": null,
   "id": "7714f700",
   "metadata": {},
   "outputs": [],
   "source": [
    "dbconfig={\"database\":\"little_lemon_db\", \"user\":\"your_username\", \"password\":\"your_password\"}\n",
    "\n",
    "pool = MySQLConnectionPool(pool_name=\"pool_b\",\n",
    "                          pool_size=2,\n",
    "                          **dbconfig)"
   ]
  },
  {
   "cell_type": "code",
   "execution_count": null,
   "id": "e3683161",
   "metadata": {},
   "outputs": [],
   "source": [
    "### TASK 2\n",
    "\n",
    "users = [\"Guest 1\", \"Guest 2\", \"Guest 3\"]\n",
    "for i in range(pool.pool_size):\n",
    "    try:\n",
    "        conn = pool.get_connection()\n",
    "    except PoolError as err:\n",
    "        print(\"Error in connecting: {}\".format(err))\n",
    "    if conn.is_connected:\n",
    "        cursor = conn.cursor()\n",
    "#           print(\"{}\\'s Connection ID {} on booking id {} \"\n",
    "#               .format(users[i],conn.connection_id, i+1))\n",
    "        if i == 0:\n",
    "            query = \"\"\"\n",
    "            INSERT INTO Bookings(\n",
    "            TableNo,\n",
    "            GuestFirstName,\n",
    "            GuestLastName,\n",
    "            BookingSlot,\n",
    "            EmployeeID\n",
    "            ) \n",
    "            VALUES (8, \"Anees\", \"Java\", \"18:00:00\", 6)\n",
    "            \"\"\"\n",
    "            cursor.execute(query)\n",
    "        elif i == 1:\n",
    "            query = \"\"\"\n",
    "            INSERT INTO Bookings(\n",
    "            TableNo,\n",
    "            GuestFirstName,\n",
    "            GuestLastName,\n",
    "            BookingSlot,\n",
    "            EmployeeID\n",
    "            ) \n",
    "            VALUES (5, \"Bald\", \"Vin\", \"19:00:00\", 6)\n",
    "            \"\"\"\n",
    "            cursor.execute(query)\n",
    "        elif i == 2:\n",
    "            query = \"\"\"\n",
    "            INSERT INTO Bookings(\n",
    "            TableNo,\n",
    "            GuestFirstName,\n",
    "            GuestLastName,\n",
    "            BookingSlot,\n",
    "            EmployeeID\n",
    "            ) \n",
    "            VALUES (12, \"Jay\", \"Kon\", \"19:30:00\", 6)\n",
    "            \"\"\"\n",
    "            cursor.execute(query)\n",
    "       \n",
    "        print(cursor.fetchall())\n",
    "    else:\n",
    "        print(\"No Connection\")\n",
    "    conn.commit()\n",
    "    conn.close()"
   ]
  },
  {
   "cell_type": "code",
   "execution_count": null,
   "id": "6db822c1",
   "metadata": {},
   "outputs": [],
   "source": [
    "### TASK 3\n",
    "\n",
    "manager_details = \"SELECT Name, EmployeeID FROM Employees WHERE Role = 'Manager';\"\n",
    "highest_salary_empl = \"SELECT Name, Role FROM Employees WHERE Annual_Salary = (SELECT Max(Annual_Salary) FROM Employees);\"\n",
    "guests_18_to_20 = \"SELECT COUNT(GuestFirstName) AS NumberOfGuests FROM Bookings WHERE BookingSlot >= '18:00:00' AND BookingSlot <= '20:00:00';\"\n",
    "guests_to_be_seated = \"SELECT CONCAT(GuestFirstName,' ',GuestLastName) AS FullName, BookingID FROM Bookings ORDER BY BookingSlot;\"\n",
    "\n",
    "ex = cursor.execute(manager_details + highest_salary_empl + guests_18_to_20 + guests_to_be_seated, multi=True)\n",
    "\n",
    "print(\"Report:\\n\")\n",
    "for cur in ex:\n",
    "    print(cur.column_names)\n",
    "    if cur.with_rows:\n",
    "        print(cur.fetchall())\n",
    "        print('\\n')\n",
    "# print(result)\n"
   ]
  },
  {
   "cell_type": "code",
   "execution_count": null,
   "id": "b49d3e62",
   "metadata": {},
   "outputs": [],
   "source": [
    "### TASK 4\n",
    "\n",
    "basic_sales_rep_proc = \"\"\"\n",
    "CREATE PROCEDURE BasicSalesReport() \n",
    "BEGIN\n",
    "SELECT SUM(BillAmount) AS TotalSales FROM Orders;\n",
    "SELECT AVG(BillAmount) AS AverageSale FROM Orders;\n",
    "SELECT MIN(BillAmount) AS MinBillPaid FROM Orders;\n",
    "SELECT MAX(BillAmount) AS MaxBillPaid FROM Orders;\n",
    "END\n",
    "\"\"\""
   ]
  },
  {
   "cell_type": "code",
   "execution_count": null,
   "id": "22596cdc",
   "metadata": {},
   "outputs": [],
   "source": [
    "cursor.execute(basic_sales_rep_proc,multi=True)"
   ]
  },
  {
   "cell_type": "code",
   "execution_count": null,
   "id": "04df995d",
   "metadata": {},
   "outputs": [],
   "source": [
    "cursor.callproc(basic_sales_rep_proc)\n",
    "\n",
    "results = next(cursor.stored_results())"
   ]
  },
  {
   "cell_type": "code",
   "execution_count": null,
   "id": "500758c1",
   "metadata": {},
   "outputs": [],
   "source": [
    "dataset = results.fetchall()"
   ]
  },
  {
   "cell_type": "code",
   "execution_count": null,
   "id": "7ed4d87c",
   "metadata": {},
   "outputs": [],
   "source": [
    "print(dataset)"
   ]
  },
  {
   "cell_type": "code",
   "execution_count": null,
   "id": "59c48776",
   "metadata": {},
   "outputs": [],
   "source": [
    "print(\"Report:\\n\"）\n",
    "print(results.column_names)\n",
    "\n",
    "for data in dataset:\n",
    "    print(data)"
   ]
  },
  {
   "cell_type": "code",
   "execution_count": null,
   "id": "59928d20",
   "metadata": {},
   "outputs": [],
   "source": [
    "### TASK 5\n",
    "\n",
    "try:\n",
    "    conn = pool.get_connection()\n",
    "except PoolError as err:\n",
    "    print(\"Error in connecting: {}, Try again\".format(err))\n",
    "    conn.close()\n",
    "if conn.is_connected:\n",
    "    cursor = conn.cursor(buffered=True)\n",
    "    bookings_employee_view = \"\"\"\n",
    "    CREATE VIEW BkEmplView AS\n",
    "    SELECT * FROM Bookings bk\n",
    "    INNER JOIN Employees emp ON bk.EmployeeID = emp.EmployeeID ORDER BY bk.EmployeeID ASC \n",
    "    \"\"\"\n",
    "    cursor.execute(bookings_employee_view)\n",
    "    first_three_guests = \"\"\"\n",
    "    SELECT BookingSlot, \n",
    "    CONCAT(GuestFirstName, ' ', GuestLastName) AS Guest_name,\n",
    "    Name, \n",
    "    Role\n",
    "    FROM BkEmplView LIMIT 3\n",
    "    \"\"\"\n",
    "    cursor.execute(first_three_guests)\n",
    "    print(cursor.column_names)\n",
    "    print(cursor.fetchall())\n",
    "    conn.close()"
   ]
  }
 ],
 "metadata": {
  "kernelspec": {
   "display_name": "Python 3 (ipykernel)",
   "language": "python",
   "name": "python3"
  },
  "language_info": {
   "codemirror_mode": {
    "name": "ipython",
    "version": 3
   },
   "file_extension": ".py",
   "mimetype": "text/x-python",
   "name": "python",
   "nbconvert_exporter": "python",
   "pygments_lexer": "ipython3",
   "version": "3.11.3"
  }
 },
 "nbformat": 4,
 "nbformat_minor": 5
}
